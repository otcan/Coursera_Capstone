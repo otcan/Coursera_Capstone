{
 "cells": [
  {
   "cell_type": "code",
   "execution_count": 1,
   "metadata": {},
   "outputs": [],
   "source": [
    "### Import necessary Libraries"
   ]
  },
  {
   "cell_type": "code",
   "execution_count": 3,
   "metadata": {},
   "outputs": [],
   "source": [
    "import requests # library to handle requests\n",
    "import pandas as pd # library for data analsysis\n",
    "import numpy as np # library to handle data in a vectorized manner\n",
    "import random # library for random number generation\n",
    "import matplotlib.pyplot as plt\n",
    "\n",
    "# libraries for displaying images\n",
    "from IPython.display import Image \n",
    "from IPython.core.display import HTML \n",
    "    \n",
    "# tranforming json file into a pandas dataframe library\n",
    "from pandas.io.json import json_normalize"
   ]
  },
  {
   "cell_type": "code",
   "execution_count": 6,
   "metadata": {},
   "outputs": [],
   "source": [
    "data = pd.read_csv('summary.csv')"
   ]
  },
  {
   "cell_type": "code",
   "execution_count": 27,
   "metadata": {},
   "outputs": [
    {
     "data": {
      "text/html": [
       "<div>\n",
       "<style scoped>\n",
       "    .dataframe tbody tr th:only-of-type {\n",
       "        vertical-align: middle;\n",
       "    }\n",
       "\n",
       "    .dataframe tbody tr th {\n",
       "        vertical-align: top;\n",
       "    }\n",
       "\n",
       "    .dataframe thead th {\n",
       "        text-align: right;\n",
       "    }\n",
       "</style>\n",
       "<table border=\"1\" class=\"dataframe\">\n",
       "  <thead>\n",
       "    <tr style=\"text-align: right;\">\n",
       "      <th>Chain</th>\n",
       "      <th>Extrablatt</th>\n",
       "      <th>McDonalds</th>\n",
       "      <th>Starbucks</th>\n",
       "      <th>Vapiano</th>\n",
       "    </tr>\n",
       "    <tr>\n",
       "      <th>City</th>\n",
       "      <th></th>\n",
       "      <th></th>\n",
       "      <th></th>\n",
       "      <th></th>\n",
       "    </tr>\n",
       "  </thead>\n",
       "  <tbody>\n",
       "    <tr>\n",
       "      <th>Berlin</th>\n",
       "      <td>1</td>\n",
       "      <td>50</td>\n",
       "      <td>23</td>\n",
       "      <td>8</td>\n",
       "    </tr>\n",
       "    <tr>\n",
       "      <th>Cologne</th>\n",
       "      <td>3</td>\n",
       "      <td>46</td>\n",
       "      <td>5</td>\n",
       "      <td>5</td>\n",
       "    </tr>\n",
       "    <tr>\n",
       "      <th>Dortmund</th>\n",
       "      <td>1</td>\n",
       "      <td>15</td>\n",
       "      <td>4</td>\n",
       "      <td>2</td>\n",
       "    </tr>\n",
       "    <tr>\n",
       "      <th>Düsseldorf</th>\n",
       "      <td>3</td>\n",
       "      <td>44</td>\n",
       "      <td>6</td>\n",
       "      <td>4</td>\n",
       "    </tr>\n",
       "    <tr>\n",
       "      <th>Essen</th>\n",
       "      <td>7</td>\n",
       "      <td>32</td>\n",
       "      <td>6</td>\n",
       "      <td>2</td>\n",
       "    </tr>\n",
       "    <tr>\n",
       "      <th>Frankfurt</th>\n",
       "      <td>2</td>\n",
       "      <td>48</td>\n",
       "      <td>17</td>\n",
       "      <td>3</td>\n",
       "    </tr>\n",
       "    <tr>\n",
       "      <th>Hamburg</th>\n",
       "      <td>0</td>\n",
       "      <td>40</td>\n",
       "      <td>11</td>\n",
       "      <td>5</td>\n",
       "    </tr>\n",
       "    <tr>\n",
       "      <th>Leipzig</th>\n",
       "      <td>0</td>\n",
       "      <td>22</td>\n",
       "      <td>2</td>\n",
       "      <td>1</td>\n",
       "    </tr>\n",
       "    <tr>\n",
       "      <th>Munich</th>\n",
       "      <td>0</td>\n",
       "      <td>50</td>\n",
       "      <td>19</td>\n",
       "      <td>4</td>\n",
       "    </tr>\n",
       "    <tr>\n",
       "      <th>Stuttgart</th>\n",
       "      <td>0</td>\n",
       "      <td>24</td>\n",
       "      <td>6</td>\n",
       "      <td>2</td>\n",
       "    </tr>\n",
       "  </tbody>\n",
       "</table>\n",
       "</div>"
      ],
      "text/plain": [
       "Chain       Extrablatt  McDonalds  Starbucks  Vapiano\n",
       "City                                                 \n",
       "Berlin               1         50         23        8\n",
       "Cologne              3         46          5        5\n",
       "Dortmund             1         15          4        2\n",
       "Düsseldorf           3         44          6        4\n",
       "Essen                7         32          6        2\n",
       "Frankfurt            2         48         17        3\n",
       "Hamburg              0         40         11        5\n",
       "Leipzig              0         22          2        1\n",
       "Munich               0         50         19        4\n",
       "Stuttgart            0         24          6        2"
      ]
     },
     "execution_count": 27,
     "metadata": {},
     "output_type": "execute_result"
    }
   ],
   "source": [
    "pivot = data.pivot(\"City\", \"Chain\", \"Amount\")\n",
    "pivot"
   ]
  },
  {
   "cell_type": "code",
   "execution_count": 65,
   "metadata": {},
   "outputs": [
    {
     "data": {
      "image/png": "[encoded data removed]",
      "text/plain": [
       "<Figure size 432x288 with 1 Axes>"
      ]
     },
     "metadata": {
      "needs_background": "light"
     },
     "output_type": "display_data"
    }
   ],
   "source": [
    "# Here comes the plot with all the restaurants\n",
    "\n",
    "pivot.plot(kind='bar')\n",
    "plt.show()"
   ]
  },
  {
   "cell_type": "code",
   "execution_count": 71,
   "metadata": {},
   "outputs": [
    {
     "data": {
      "image/png": "[encoded data removed]",
      "text/plain": [
       "<Figure size 432x288 with 1 Axes>"
      ]
     },
     "metadata": {
      "needs_background": "light"
     },
     "output_type": "display_data"
    }
   ],
   "source": [
    "# Graph without McDonalds\n",
    "\n",
    "pivot.drop(columns='McDonalds').plot(kind='bar')\n",
    "plt.show()"
   ]
  },
  {
   "cell_type": "code",
   "execution_count": 86,
   "metadata": {},
   "outputs": [
    {
     "data": {
      "text/plain": [
       "City\n",
       "Frankfurt     0.176471\n",
       "Munich        0.210526\n",
       "Essen         0.333333\n",
       "Stuttgart     0.333333\n",
       "Berlin        0.347826\n",
       "Hamburg       0.454545\n",
       "Dortmund           0.5\n",
       "Leipzig            0.5\n",
       "Düsseldorf    0.666667\n",
       "Cologne              1\n",
       "dtype: object"
      ]
     },
     "execution_count": 86,
     "metadata": {},
     "output_type": "execute_result"
    }
   ],
   "source": [
    "# How about the rate of Vapiano to Starbucks, to have an idea\n",
    "rate = pivot['Vapiano']/pivot['Starbucks']\n",
    "rate.sort_values(0)"
   ]
  },
  {
   "cell_type": "code",
   "execution_count": 28,
   "metadata": {},
   "outputs": [
    {
     "data": {
      "text/plain": [
       "City\n",
       "Berlin         2.173913\n",
       "Munich         2.631579\n",
       "Frankfurt      2.823529\n",
       "Hamburg        3.636364\n",
       "Dortmund       3.750000\n",
       "Stuttgart      4.000000\n",
       "Essen          5.333333\n",
       "Düsseldorf     7.333333\n",
       "Cologne        9.200000\n",
       "Leipzig       11.000000\n",
       "dtype: float64"
      ]
     },
     "execution_count": 28,
     "metadata": {},
     "output_type": "execute_result"
    }
   ],
   "source": [
    "# How about the rate of McDonalds to Starbucks\n",
    "rate = pivot['McDonalds']/pivot['Starbucks']\n",
    "rate.sort_values(0)"
   ]
  },
  {
   "cell_type": "code",
   "execution_count": 47,
   "metadata": {},
   "outputs": [
    {
     "data": {
      "text/html": [
       "<style  type=\"text/css\" >\n",
       "    #T_d10fd29e_1a44_11e9_829d_eb4916e2a70drow0_col0 {\n",
       "            background-color:  #023858;\n",
       "        }    #T_d10fd29e_1a44_11e9_829d_eb4916e2a70drow0_col1 {\n",
       "            background-color:  #fff7fb;\n",
       "        }    #T_d10fd29e_1a44_11e9_829d_eb4916e2a70drow0_col2 {\n",
       "            background-color:  #fff7fb;\n",
       "        }    #T_d10fd29e_1a44_11e9_829d_eb4916e2a70drow0_col3 {\n",
       "            background-color:  #fff7fb;\n",
       "        }    #T_d10fd29e_1a44_11e9_829d_eb4916e2a70drow1_col0 {\n",
       "            background-color:  #cdd0e5;\n",
       "        }    #T_d10fd29e_1a44_11e9_829d_eb4916e2a70drow1_col1 {\n",
       "            background-color:  #023858;\n",
       "        }    #T_d10fd29e_1a44_11e9_829d_eb4916e2a70drow1_col2 {\n",
       "            background-color:  #056aa6;\n",
       "        }    #T_d10fd29e_1a44_11e9_829d_eb4916e2a70drow1_col3 {\n",
       "            background-color:  #056dab;\n",
       "        }    #T_d10fd29e_1a44_11e9_829d_eb4916e2a70drow2_col0 {\n",
       "            background-color:  #fff7fb;\n",
       "        }    #T_d10fd29e_1a44_11e9_829d_eb4916e2a70drow2_col1 {\n",
       "            background-color:  #167bb6;\n",
       "        }    #T_d10fd29e_1a44_11e9_829d_eb4916e2a70drow2_col2 {\n",
       "            background-color:  #023858;\n",
       "        }    #T_d10fd29e_1a44_11e9_829d_eb4916e2a70drow2_col3 {\n",
       "            background-color:  #1278b4;\n",
       "        }    #T_d10fd29e_1a44_11e9_829d_eb4916e2a70drow3_col0 {\n",
       "            background-color:  #f0eaf4;\n",
       "        }    #T_d10fd29e_1a44_11e9_829d_eb4916e2a70drow3_col1 {\n",
       "            background-color:  #1278b4;\n",
       "        }    #T_d10fd29e_1a44_11e9_829d_eb4916e2a70drow3_col2 {\n",
       "            background-color:  #0771b1;\n",
       "        }    #T_d10fd29e_1a44_11e9_829d_eb4916e2a70drow3_col3 {\n",
       "            background-color:  #023858;\n",
       "        }</style>  \n",
       "<table id=\"T_d10fd29e_1a44_11e9_829d_eb4916e2a70d\" > \n",
       "<thead>    <tr> \n",
       "        <th class=\"index_name level0\" >Chain</th> \n",
       "        <th class=\"col_heading level0 col0\" >Extrablatt</th> \n",
       "        <th class=\"col_heading level0 col1\" >McDonalds</th> \n",
       "        <th class=\"col_heading level0 col2\" >Starbucks</th> \n",
       "        <th class=\"col_heading level0 col3\" >Vapiano</th> \n",
       "    </tr>    <tr> \n",
       "        <th class=\"index_name level0\" >Chain</th> \n",
       "        <th class=\"blank\" ></th> \n",
       "        <th class=\"blank\" ></th> \n",
       "        <th class=\"blank\" ></th> \n",
       "        <th class=\"blank\" ></th> \n",
       "    </tr></thead> \n",
       "<tbody>    <tr> \n",
       "        <th id=\"T_d10fd29e_1a44_11e9_829d_eb4916e2a70dlevel0_row0\" class=\"row_heading level0 row0\" >Extrablatt</th> \n",
       "        <td id=\"T_d10fd29e_1a44_11e9_829d_eb4916e2a70drow0_col0\" class=\"data row0 col0\" >1</td> \n",
       "        <td id=\"T_d10fd29e_1a44_11e9_829d_eb4916e2a70drow0_col1\" class=\"data row0 col1\" >0.094452</td> \n",
       "        <td id=\"T_d10fd29e_1a44_11e9_829d_eb4916e2a70drow0_col2\" class=\"data row0 col2\" >-0.223665</td> \n",
       "        <td id=\"T_d10fd29e_1a44_11e9_829d_eb4916e2a70drow0_col3\" class=\"data row0 col3\" >-0.102062</td> \n",
       "    </tr>    <tr> \n",
       "        <th id=\"T_d10fd29e_1a44_11e9_829d_eb4916e2a70dlevel0_row1\" class=\"row_heading level0 row1\" >McDonalds</th> \n",
       "        <td id=\"T_d10fd29e_1a44_11e9_829d_eb4916e2a70drow1_col0\" class=\"data row1 col0\" >0.094452</td> \n",
       "        <td id=\"T_d10fd29e_1a44_11e9_829d_eb4916e2a70drow1_col1\" class=\"data row1 col1\" >1</td> \n",
       "        <td id=\"T_d10fd29e_1a44_11e9_829d_eb4916e2a70drow1_col2\" class=\"data row1 col2\" >0.732479</td> \n",
       "        <td id=\"T_d10fd29e_1a44_11e9_829d_eb4916e2a70drow1_col3\" class=\"data row1 col3\" >0.74311</td> \n",
       "    </tr>    <tr> \n",
       "        <th id=\"T_d10fd29e_1a44_11e9_829d_eb4916e2a70dlevel0_row2\" class=\"row_heading level0 row2\" >Starbucks</th> \n",
       "        <td id=\"T_d10fd29e_1a44_11e9_829d_eb4916e2a70drow2_col0\" class=\"data row2 col0\" >-0.223665</td> \n",
       "        <td id=\"T_d10fd29e_1a44_11e9_829d_eb4916e2a70drow2_col1\" class=\"data row2 col1\" >0.732479</td> \n",
       "        <td id=\"T_d10fd29e_1a44_11e9_829d_eb4916e2a70drow2_col2\" class=\"data row2 col2\" >1</td> \n",
       "        <td id=\"T_d10fd29e_1a44_11e9_829d_eb4916e2a70drow2_col3\" class=\"data row2 col3\" >0.687165</td> \n",
       "    </tr>    <tr> \n",
       "        <th id=\"T_d10fd29e_1a44_11e9_829d_eb4916e2a70dlevel0_row3\" class=\"row_heading level0 row3\" >Vapiano</th> \n",
       "        <td id=\"T_d10fd29e_1a44_11e9_829d_eb4916e2a70drow3_col0\" class=\"data row3 col0\" >-0.102062</td> \n",
       "        <td id=\"T_d10fd29e_1a44_11e9_829d_eb4916e2a70drow3_col1\" class=\"data row3 col1\" >0.74311</td> \n",
       "        <td id=\"T_d10fd29e_1a44_11e9_829d_eb4916e2a70drow3_col2\" class=\"data row3 col2\" >0.687165</td> \n",
       "        <td id=\"T_d10fd29e_1a44_11e9_829d_eb4916e2a70drow3_col3\" class=\"data row3 col3\" >1</td> \n",
       "    </tr></tbody> \n",
       "</table> "
      ],
      "text/plain": [
       "<pandas.io.formats.style.Styler at 0x7f62481e1c88>"
      ]
     },
     "execution_count": 47,
     "metadata": {},
     "output_type": "execute_result"
    }
   ],
   "source": [
    "corr = pivot.corr()\n",
    "corr.style.background_gradient()"
   ]
  }
 ],
 "metadata": {
  "kernelspec": {
   "display_name": "Python 3",
   "language": "python",
   "name": "python3"
  },
  "language_info": {
   "codemirror_mode": {
    "name": "ipython",
    "version": 3
   },
   "file_extension": ".py",
   "mimetype": "text/x-python",
   "name": "python",
   "nbconvert_exporter": "python",
   "pygments_lexer": "ipython3",
   "version": "3.6.6"
  }
 },
 "nbformat": 4,
 "nbformat_minor": 2
}
